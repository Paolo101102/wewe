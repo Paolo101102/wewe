{
 "cells": [
  {
   "cell_type": "code",
   "execution_count": 6,
   "id": "ffed6bd7",
   "metadata": {},
   "outputs": [
    {
     "name": "stdout",
     "output_type": "stream",
     "text": [
      "Elige una opción:\n",
      "1. Opción 1\n",
      "2. Opción 2\n",
      "3. Opción 3\n",
      "Ingresa el número de la opción elegida: 1\n",
      "Has elegido la opción 1\n"
     ]
    }
   ],
   "source": [
    "import cv2\n",
    "\n",
    "# Cargar el video\n",
    "video_path = r\"C:\\Users\\Usuario\\Pictures\"\n",
    "video_capture = cv2.VideoCapture(video_path)\n",
    "\n",
    "# Reproducir el video\n",
    "while video_capture.isOpened():\n",
    "    ret, frame = video_capture.read()\n",
    "\n",
    "    if not ret:\n",
    "        break\n",
    "\n",
    "    # Mostrar el frame del video\n",
    "    cv2.imshow(\"Video\", frame)\n",
    "\n",
    "    # Esperar 1 milisegundo y controlar eventos\n",
    "    if cv2.waitKey(1) & 0xFF == ord('q'):\n",
    "        break\n",
    "\n",
    "# Liberar recursos\n",
    "video_capture.release()\n",
    "cv2.destroyAllWindows()\n",
    "\n",
    "# Mostrar opciones después del video\n",
    "print(\"Elige una opción:\")\n",
    "print(\"1. Opción 1\")\n",
    "print(\"2. Opción 2\")\n",
    "print(\"3. Opción 3\")\n",
    "\n",
    "opcion = input(\"Ingresa el número de la opción elegida: \")\n",
    "\n",
    "# Realizar acciones según la opción elegida\n",
    "if opcion == \"1\":\n",
    "    print(\"Has elegido la opción 1\")\n",
    "elif opcion == \"2\":\n",
    "    print(\"Has elegido la opción 2\")\n",
    "elif opcion == \"3\":\n",
    "    print(\"Has elegido la opción 3\")\n",
    "else:\n",
    "    print(\"Opción inválida\")\n"
   ]
  },
  {
   "cell_type": "code",
   "execution_count": null,
   "id": "5ca9bca6",
   "metadata": {},
   "outputs": [],
   "source": []
  }
 ],
 "metadata": {
  "kernelspec": {
   "display_name": "Python 3",
   "language": "python",
   "name": "python3"
  },
  "language_info": {
   "codemirror_mode": {
    "name": "ipython",
    "version": 3
   },
   "file_extension": ".py",
   "mimetype": "text/x-python",
   "name": "python",
   "nbconvert_exporter": "python",
   "pygments_lexer": "ipython3",
   "version": "3.8.8"
  }
 },
 "nbformat": 4,
 "nbformat_minor": 5
}
